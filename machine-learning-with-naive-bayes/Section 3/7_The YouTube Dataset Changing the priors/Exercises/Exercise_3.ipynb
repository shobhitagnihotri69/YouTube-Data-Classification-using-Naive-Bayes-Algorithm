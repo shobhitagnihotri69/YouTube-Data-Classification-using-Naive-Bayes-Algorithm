{
 "cells": [
  {
   "cell_type": "markdown",
   "id": "7e8a08de",
   "metadata": {},
   "source": [
    "# Exercise - 20 Newsgroups Dataset"
   ]
  },
  {
   "cell_type": "markdown",
   "id": "e3e12d05",
   "metadata": {},
   "source": [
    "### Introducing the assignment"
   ]
  },
  {
   "cell_type": "markdown",
   "id": "a8dae329",
   "metadata": {},
   "source": [
    "In this assignment, you will explore the **20 newsgroups text dataset**. It is one of the real-world datasets that can be directly imported from sklearn. The dataset consists of 18000 newsgroup posts on 20 topics.\n",
    "\n",
    "The code under the following sections is implemented:\n",
    "* **Importing the necessary libraries** - **some** of the libraries necessary for the next section are imported. The rest we leave for you to import.\n",
    "* **Reading the database** - in this section, we do the following:\n",
    "    - fetch the 20 newsgroups dataset\n",
    "    - display the type of the **newsgroups** variable\n",
    "    - display the names of all classes\n",
    "    - display the first post in the database just to get an idea of how the dataset looks like\n",
    "    - display the targets\n",
    "    - using the **Counter** class, count the number of times each target has occurred in the list of targets\n",
    "    \n",
    "Your task is to create a Naive Bayes model in a similar fashion to the spam-filtering model we built during the course. Then, analyze your results with the help of a confusion matrix and a classification report. Test the performance of both the multinomial and the complement naive bayes classifiers.\n",
    "\n",
    "*Additional task: You may try to construct the probability distribution figures of some of the classes.*\n",
    "\n",
    "*Hint: Make use of the **categories** variable to print out the classification report.*\n",
    "\n",
    "Good luck and have fun!"
   ]
  },
  {
   "cell_type": "markdown",
   "id": "6f3e5f86",
   "metadata": {},
   "source": [
    "### Importing the necessary libraries"
   ]
  },
  {
   "cell_type": "code",
   "execution_count": null,
   "id": "21a29390",
   "metadata": {},
   "outputs": [],
   "source": [
    "from sklearn.datasets import fetch_20newsgroups\n",
    "\n",
    "from collections import Counter"
   ]
  },
  {
   "cell_type": "markdown",
   "id": "9fa95f42",
   "metadata": {},
   "source": [
    "### Reading the database"
   ]
  },
  {
   "cell_type": "code",
   "execution_count": null,
   "id": "528b4978",
   "metadata": {},
   "outputs": [],
   "source": [
    "newsgroups = fetch_20newsgroups()"
   ]
  },
  {
   "cell_type": "code",
   "execution_count": null,
   "id": "d79b2059",
   "metadata": {},
   "outputs": [],
   "source": [
    "type(newsgroups)"
   ]
  },
  {
   "cell_type": "code",
   "execution_count": null,
   "id": "0514d087",
   "metadata": {},
   "outputs": [],
   "source": [
    "categories = newsgroups.target_names"
   ]
  },
  {
   "cell_type": "code",
   "execution_count": null,
   "id": "a250b534",
   "metadata": {},
   "outputs": [],
   "source": [
    "newsgroups.data[0]"
   ]
  },
  {
   "cell_type": "code",
   "execution_count": null,
   "id": "54ea7c29",
   "metadata": {},
   "outputs": [],
   "source": [
    "newsgroups.target"
   ]
  },
  {
   "cell_type": "code",
   "execution_count": null,
   "id": "fae15aea",
   "metadata": {},
   "outputs": [],
   "source": [
    "Counter(newsgroups.target)"
   ]
  }
 ],
 "metadata": {
  "kernelspec": {
   "display_name": "Python 3 (ipykernel)",
   "language": "python",
   "name": "python3"
  },
  "language_info": {
   "codemirror_mode": {
    "name": "ipython",
    "version": 3
   },
   "file_extension": ".py",
   "mimetype": "text/x-python",
   "name": "python",
   "nbconvert_exporter": "python",
   "pygments_lexer": "ipython3",
   "version": "3.8.8"
  }
 },
 "nbformat": 4,
 "nbformat_minor": 5
}
