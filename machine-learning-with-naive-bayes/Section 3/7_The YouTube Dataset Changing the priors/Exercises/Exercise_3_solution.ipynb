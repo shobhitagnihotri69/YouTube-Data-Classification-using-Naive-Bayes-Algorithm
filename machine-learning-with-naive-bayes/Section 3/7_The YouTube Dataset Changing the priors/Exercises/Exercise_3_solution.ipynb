{
 "cells": [
  {
   "cell_type": "markdown",
   "id": "7e8a08de",
   "metadata": {},
   "source": [
    "# Exercise - 20 Newsgroups Dataset - Solution"
   ]
  },
  {
   "cell_type": "markdown",
   "id": "e3e12d05",
   "metadata": {},
   "source": [
    "### Introducing a solution"
   ]
  },
  {
   "cell_type": "markdown",
   "id": "7dd335f5",
   "metadata": {},
   "source": [
    "**In this notebook, we only give guidelines on how the problem can be solved. You can use it to resolve an error you might have encountered or just for inspiration. The notebook does not necessarily present the best solution.**"
   ]
  },
  {
   "cell_type": "markdown",
   "id": "f03be8c8",
   "metadata": {},
   "source": [
    "### Introducing the assignment"
   ]
  },
  {
   "cell_type": "markdown",
   "id": "5db9fe0d",
   "metadata": {},
   "source": [
    "In this assignment, you will be introduced to the **20 newsgroups text dataset**. It is one of the real-world datasets that can be directly imported from sklearn. The dataset consists of 18000 newsgroup posts on 20 topics.\n",
    "\n",
    "The code under the following sections is implemented:\n",
    "* **Importing the necessary libraries** - **some** of the libraries necessary for the next section are imported. The rest we leave for you to import.\n",
    "* **Reading the database** - in this section, we do the following:\n",
    "    - fetch the 20 newsgroups dataset\n",
    "    - display the type of the **newsgroups** variable\n",
    "    - display the names of all classes\n",
    "    - display the first post in the database just to have an idea of how the dataset looks like\n",
    "    - display the targets\n",
    "    - using the Counter class, count the number of times each target has occurred in the list of targets\n",
    "    \n",
    "Your task is to build a Naive Bayes model in a similar fashion to the spam-filtering model we have built during the course. Then, analyze your results with the help of a confusion matrix and a classification report. Test both the multinomial and the complement naive bayes classifiers.\n",
    "\n",
    "*Hint: Make use of the **categories** variable to print out the classification report.*\n",
    "\n",
    "Good luck and have fun!"
   ]
  },
  {
   "cell_type": "markdown",
   "id": "6f3e5f86",
   "metadata": {},
   "source": [
    "### Importing the necessary libraries"
   ]
  },
  {
   "cell_type": "code",
   "execution_count": null,
   "id": "21a29390",
   "metadata": {},
   "outputs": [],
   "source": [
    "from sklearn.datasets import fetch_20newsgroups\n",
    "\n",
    "from collections import Counter\n",
    "from sklearn.feature_extraction.text import CountVectorizer\n",
    "from sklearn.model_selection import train_test_split\n",
    "from sklearn.naive_bayes import MultinomialNB, ComplementNB\n",
    "from sklearn.metrics import classification_report, ConfusionMatrixDisplay\n",
    "\n",
    "import matplotlib.pyplot as plt\n",
    "import seaborn as sns\n",
    "\n",
    "import numpy as np"
   ]
  },
  {
   "cell_type": "markdown",
   "id": "9fa95f42",
   "metadata": {},
   "source": [
    "### Reading the database"
   ]
  },
  {
   "cell_type": "code",
   "execution_count": null,
   "id": "528b4978",
   "metadata": {},
   "outputs": [],
   "source": [
    "newsgroups = fetch_20newsgroups()"
   ]
  },
  {
   "cell_type": "code",
   "execution_count": null,
   "id": "dce12216",
   "metadata": {},
   "outputs": [],
   "source": [
    "type(newsgroups)"
   ]
  },
  {
   "cell_type": "code",
   "execution_count": null,
   "id": "a42aa005",
   "metadata": {},
   "outputs": [],
   "source": [
    "categories = newsgroups.target_names"
   ]
  },
  {
   "cell_type": "code",
   "execution_count": null,
   "id": "d8a9447f",
   "metadata": {},
   "outputs": [],
   "source": [
    "newsgroups.data[0]"
   ]
  },
  {
   "cell_type": "code",
   "execution_count": null,
   "id": "075b87a6",
   "metadata": {},
   "outputs": [],
   "source": [
    "newsgroups.target"
   ]
  },
  {
   "cell_type": "code",
   "execution_count": null,
   "id": "61231e28",
   "metadata": {},
   "outputs": [],
   "source": [
    "Counter(newsgroups.target)"
   ]
  },
  {
   "cell_type": "markdown",
   "id": "8108d584",
   "metadata": {},
   "source": [
    "### Defining the inputs and the target"
   ]
  },
  {
   "cell_type": "code",
   "execution_count": null,
   "id": "e22f6956",
   "metadata": {},
   "outputs": [],
   "source": [
    "inputs = newsgroups.data\n",
    "target = newsgroups.target"
   ]
  },
  {
   "cell_type": "code",
   "execution_count": null,
   "id": "071bdc34",
   "metadata": {},
   "outputs": [],
   "source": [
    "len(target)"
   ]
  },
  {
   "cell_type": "markdown",
   "id": "0bd68ef4",
   "metadata": {},
   "source": [
    "### Creating the train-test split"
   ]
  },
  {
   "cell_type": "code",
   "execution_count": null,
   "id": "81023af8",
   "metadata": {},
   "outputs": [],
   "source": [
    "x_train, x_test, y_train, y_test = train_test_split(inputs, target, \n",
    "                                                    test_size=0.2, \n",
    "                                                    random_state=365, \n",
    "                                                    stratify = target)"
   ]
  },
  {
   "cell_type": "markdown",
   "id": "4a4878d1",
   "metadata": {},
   "source": [
    "### Tokenizing the YouTube comments"
   ]
  },
  {
   "cell_type": "code",
   "execution_count": null,
   "id": "38eba10e",
   "metadata": {},
   "outputs": [],
   "source": [
    "vectorizer = CountVectorizer()\n",
    "\n",
    "x_train_transf = vectorizer.fit_transform(x_train)\n",
    "x_test_transf = vectorizer.transform(x_test)"
   ]
  },
  {
   "cell_type": "markdown",
   "id": "dd4a8c7f",
   "metadata": {},
   "source": [
    "### Performing the classification"
   ]
  },
  {
   "cell_type": "code",
   "execution_count": null,
   "id": "f88adaab",
   "metadata": {},
   "outputs": [],
   "source": [
    "clf = MultinomialNB()\n",
    "\n",
    "clf.fit(x_train_transf, y_train)"
   ]
  },
  {
   "cell_type": "markdown",
   "id": "0b0d523f",
   "metadata": {},
   "source": [
    "### Performing the evaluation on the test dataset"
   ]
  },
  {
   "cell_type": "code",
   "execution_count": null,
   "id": "8f3faf5b",
   "metadata": {},
   "outputs": [],
   "source": [
    "y_test_pred = clf.predict(x_test_transf)"
   ]
  },
  {
   "cell_type": "code",
   "execution_count": null,
   "id": "644059d5",
   "metadata": {},
   "outputs": [],
   "source": [
    "sns.reset_orig()\n",
    "\n",
    "ConfusionMatrixDisplay.from_predictions(\n",
    "    y_test, y_test_pred,\n",
    "    labels = clf.classes_,\n",
    "    cmap = 'magma'\n",
    ");"
   ]
  },
  {
   "cell_type": "code",
   "execution_count": null,
   "id": "98296cd1",
   "metadata": {},
   "outputs": [],
   "source": [
    "print(classification_report(y_test, y_test_pred, target_names = categories))"
   ]
  }
 ],
 "metadata": {
  "kernelspec": {
   "display_name": "Python 3 (ipykernel)",
   "language": "python",
   "name": "python3"
  },
  "language_info": {
   "codemirror_mode": {
    "name": "ipython",
    "version": 3
   },
   "file_extension": ".py",
   "mimetype": "text/x-python",
   "name": "python",
   "nbconvert_exporter": "python",
   "pygments_lexer": "ipython3",
   "version": "3.8.8"
  }
 },
 "nbformat": 4,
 "nbformat_minor": 5
}
